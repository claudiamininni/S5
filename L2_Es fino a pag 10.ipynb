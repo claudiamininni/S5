{
 "cells": [
  {
   "cell_type": "code",
   "execution_count": 1,
   "id": "71c2ba92-58cc-46de-9dc6-69b88be4f44c",
   "metadata": {
    "tags": []
   },
   "outputs": [
    {
     "name": "stdout",
     "output_type": "stream",
     "text": [
      "E\n",
      "p\n",
      "i\n",
      "c\n",
      "o\n",
      "d\n",
      "e\n"
     ]
    }
   ],
   "source": [
    "#Es pagina 2 Stampare ogni carattere della stringa, uno su ogni riga, utilizzando un costrutto while.\n",
    "nome_scuola = \"Epicode\"\n",
    "\n",
    "indice = 0\n",
    "\n",
    "while indice < len(nome_scuola):\n",
    "   \n",
    "    print(nome_scuola[indice])\n",
    "    \n",
    "    indice += 1"
   ]
  },
  {
   "cell_type": "code",
   "execution_count": 2,
   "id": "4c07517e-3221-4df8-9c04-b6e5b326dfa0",
   "metadata": {
    "tags": []
   },
   "outputs": [
    {
     "name": "stdout",
     "output_type": "stream",
     "text": [
      "0\n",
      "1\n",
      "2\n",
      "3\n",
      "4\n",
      "5\n",
      "6\n",
      "7\n",
      "8\n",
      "9\n",
      "10\n",
      "11\n",
      "12\n",
      "13\n",
      "14\n",
      "15\n",
      "16\n",
      "17\n",
      "18\n",
      "19\n",
      "20\n"
     ]
    }
   ],
   "source": [
    "#Es pagina 3 Stampare a video tutti i numeri da 0 a 20 utilizzando il costrutto while.\n",
    "numero = 0\n",
    "\n",
    "while numero <= 20:\n",
    "    print(numero)\n",
    "    numero += 1"
   ]
  },
  {
   "cell_type": "code",
   "execution_count": 3,
   "id": "9627d024-94cf-4709-9411-2e2bd3a74817",
   "metadata": {
    "tags": []
   },
   "outputs": [
    {
     "name": "stdout",
     "output_type": "stream",
     "text": [
      "1\n",
      "2\n",
      "4\n",
      "8\n",
      "16\n",
      "32\n",
      "64\n",
      "128\n",
      "256\n",
      "512\n"
     ]
    }
   ],
   "source": [
    "# Es pagina 4 Calcolare e stampare tutte le prime 10 potenze di 2 (e.g., 2⁰, 2¹, 2², …) utilizzando un ciclo while.\n",
    "esponente = 0\n",
    "while esponente <10:\n",
    "    risultato = 2 ** esponente\n",
    "    print(risultato)\n",
    "    esponente += 1"
   ]
  },
  {
   "cell_type": "code",
   "execution_count": 4,
   "id": "a7c4df88-822b-448f-9650-c60fe62d811d",
   "metadata": {
    "tags": []
   },
   "outputs": [
    {
     "name": "stdin",
     "output_type": "stream",
     "text": [
      "Inserisci l'esponente:  8\n"
     ]
    },
    {
     "name": "stdout",
     "output_type": "stream",
     "text": [
      "256\n"
     ]
    }
   ],
   "source": [
    "# Es pagina 5 Calcolare e stampare tutte le prime N potenze di 2 utilizzando un ciclo while, domandando all'utente di inserire N.\n",
    "esponente = int(input(\"Inserisci l'esponente: \"))\n",
    "risultato = 2 ** esponente\n",
    "print(risultato)"
   ]
  },
  {
   "cell_type": "code",
   "execution_count": 5,
   "id": "05245e71-b2f3-4dd9-a40d-b70d88491845",
   "metadata": {
    "tags": []
   },
   "outputs": [
    {
     "name": "stdout",
     "output_type": "stream",
     "text": [
      "2^0 = 1\n",
      "2^1 = 2\n",
      "2^2 = 4\n",
      "2^3 = 8\n",
      "2^4 = 16\n",
      "2^5 = 32\n",
      "2^6 = 64\n",
      "2^7 = 128\n",
      "2^8 = 256\n",
      "2^9 = 512\n",
      "2^10 = 1024\n",
      "2^11 = 2048\n",
      "2^12 = 4096\n",
      "2^13 = 8192\n",
      "2^14 = 16384\n"
     ]
    }
   ],
   "source": [
    "# Es pagina 6 Calcolare e stampare tutte le potenze di 2 minori di 25000.\n",
    "esponente = 0\n",
    "\n",
    "while 2 ** esponente < 25000:\n",
    "    risultato = 2 ** esponente\n",
    "    print(f\"2^{esponente} = {risultato}\")\n",
    "    esponente += 1"
   ]
  },
  {
   "cell_type": "code",
   "execution_count": 6,
   "id": "6fea2f9b-14ee-4604-9671-2f91b7350eb6",
   "metadata": {
    "tags": []
   },
   "outputs": [
    {
     "name": "stdout",
     "output_type": "stream",
     "text": [
      "Le liste non sono della stessa lunghezza.\n"
     ]
    }
   ],
   "source": [
    "#Es 8\n",
    "#Crezione liste\n",
    "studenti = [\"Alex\", \"Bob\", \"Cindy\", \"Dan\", \"Emma\", \"Faith\", \"Grace\", \"Henry\"]\n",
    "corsi = [\"Cybersecurity\", \"Data Analyst\", \"Backend\", \"Frontend\", \"Data Analyst\", \"Backend\"]\n",
    "\n",
    "# Aggiungi dati mancanti uno alla volta\n",
    "if \"Emma\" not in studenti:\n",
    "    studenti.append(\"Emma\")\n",
    "    corsi.append(\"Data Analyst\")\n",
    "\n",
    "elif \"Faith\" not in studenti:\n",
    "    studenti.append(\"Faith\")\n",
    "    corsi.append(\"Backend\")\n",
    "\n",
    "elif \"Grace\" not in studenti:\n",
    "    studenti.append(\"Grace\")\n",
    "    corsi.append(\"Frontend\")\n",
    "\n",
    "elif \"Henry\" not in studenti:\n",
    "    studenti.append(\"Henry\")\n",
    "    corsi.append(\"Cybersecurity\")\n",
    "\n",
    "# Verifico se le liste sono della stessa lunghezza\n",
    "if len(studenti) == len(corsi):\n",
    "    # Stampare la lista \"corsi\"\n",
    "    print(corsi)\n",
    "else:\n",
    "    print(\"Le liste non sono della stessa lunghezza.\")\n"
   ]
  },
  {
   "cell_type": "code",
   "execution_count": 7,
   "id": "15115396-173e-4b08-8151-c12c05bf7d7c",
   "metadata": {
    "tags": []
   },
   "outputs": [
    {
     "name": "stdin",
     "output_type": "stream",
     "text": [
      "Inserisci una stringa:  1234567\n"
     ]
    },
    {
     "name": "stdout",
     "output_type": "stream",
     "text": [
      "Risultato: 123...567\n"
     ]
    }
   ],
   "source": [
    "# Es 9  Programma che chiede in input all'utente una stringa e visualizza i primi 3 caratteri, seguiti da 3 punti di sospensione e quindi gli ultimi 3 caratteri\n",
    "\n",
    "input_stringa = input(\"Inserisci una stringa: \")\n",
    "lunghezza_stringa = len(input_stringa)\n",
    "if lunghezza_stringa >6:\n",
    "    parte_iniziale = input_stringa[:3]\n",
    "    parte_finale = input_stringa[-3:]\n",
    "    risultato = parte_iniziale + \"...\" + parte_finale\n",
    "else:\n",
    "    risultato = \"La stringa è troppo corta per visualizzare i primi e gli ultimi 3 caratteri.\"\n",
    "\n",
    "# Stampare il risultato\n",
    "print(\"Risultato:\", risultato)"
   ]
  },
  {
   "cell_type": "code",
   "execution_count": 8,
   "id": "949e5999-08cf-4c74-887a-1833ac32c8b5",
   "metadata": {
    "tags": []
   },
   "outputs": [
    {
     "name": "stdin",
     "output_type": "stream",
     "text": [
      "Inserisci un numero intero:  8\n"
     ]
    },
    {
     "name": "stdout",
     "output_type": "stream",
     "text": [
      "I divisori di 8 sono: [1, 2, 4, 8]\n"
     ]
    }
   ],
   "source": [
    "# Es pagina 10 Memorizza e stampa tutti i divisori di un numero dato in input.\n",
    "\n",
    "numero = int(input(\"Inserisci un numero intero: \"))\n",
    "\n",
    "# Metodo 1\n",
    "divisori = [i for i in range(1, numero + 1) if numero % i == 0]\n",
    "\n",
    "# Stampare i divisori\n",
    "print(f\"I divisori di {numero} sono: {divisori}\")"
   ]
  },
  {
   "cell_type": "code",
   "execution_count": 9,
   "id": "e6b49d2d-b870-4dc9-9211-d51ca32e3d7e",
   "metadata": {
    "tags": []
   },
   "outputs": [
    {
     "name": "stdin",
     "output_type": "stream",
     "text": [
      "Inserisci un numero intero:  8\n"
     ]
    },
    {
     "name": "stdout",
     "output_type": "stream",
     "text": [
      "I divisori di 8 sono: [1, 2, 4, 8]\n"
     ]
    }
   ],
   "source": [
    "# Es pagina 10 Memorizza e stampa tutti i divisori di un numero dato in input.\n",
    "numero = int(input(\"Inserisci un numero intero: \"))\n",
    "\n",
    "# Inizializza una lista per memorizzare i divisori\n",
    "divisori = []\n",
    "\n",
    "# metodo 2\n",
    "i = 1\n",
    "while i <= numero:\n",
    "    if numero % i == 0:\n",
    "        divisori.append(i)\n",
    "    i += 1\n",
    "\n",
    "print(f\"I divisori di {numero} sono: {divisori}\")"
   ]
  },
  {
   "cell_type": "code",
   "execution_count": 10,
   "id": "3e18160b-b4cb-4e9f-8621-5d746b3b1931",
   "metadata": {
    "tags": []
   },
   "outputs": [
    {
     "name": "stdin",
     "output_type": "stream",
     "text": [
      "Inserisci un numero intero:  8\n"
     ]
    },
    {
     "name": "stdout",
     "output_type": "stream",
     "text": [
      "I divisori di 8 sono: [1, 2, 4]\n"
     ]
    }
   ],
   "source": [
    "# Es pagina 10 Memorizza e stampa tutti i divisori di un numero dato in input.\n",
    "numero = int(input(\"Inserisci un numero intero: \"))\n",
    "\n",
    "# Inizializza una lista per memorizzare i divisori\n",
    "divisori = []\n",
    "\n",
    "# metodo 3\n",
    "for i in range(1, numero):\n",
    "    if numero % i == 0:\n",
    "        divisori.append(i)\n",
    "\n",
    "print(f\"I divisori di {numero} sono: {divisori}\")"
   ]
  },
  {
   "cell_type": "code",
   "execution_count": null,
   "id": "c919f24c-cf87-491c-a202-e3bbe4cb3ae2",
   "metadata": {},
   "outputs": [],
   "source": []
  }
 ],
 "metadata": {
  "kernelspec": {
   "display_name": "Python 3 (ipykernel)",
   "language": "python",
   "name": "python3"
  },
  "language_info": {
   "codemirror_mode": {
    "name": "ipython",
    "version": 3
   },
   "file_extension": ".py",
   "mimetype": "text/x-python",
   "name": "python",
   "nbconvert_exporter": "python",
   "pygments_lexer": "ipython3",
   "version": "3.11.5"
  }
 },
 "nbformat": 4,
 "nbformat_minor": 5
}
