{
 "cells": [
  {
   "cell_type": "code",
   "execution_count": 2,
   "id": "1cc5d94f-0932-4f92-a571-e0bda37f2b06",
   "metadata": {
    "tags": []
   },
   "outputs": [
    {
     "name": "stdin",
     "output_type": "stream",
     "text": [
      "Inserisci il valore di K:  2\n",
      "Inserisci il numero di potenze (N):  6\n"
     ]
    },
    {
     "name": "stdout",
     "output_type": "stream",
     "text": [
      "Le prime 6 potenze di 2 sono: [1, 2, 4, 8, 16, 32]\n"
     ]
    }
   ],
   "source": [
    "#Es pag 11 Calcolare le prime N potenze di K; ognuna di esse andrà memorizzata in coda a una lista.\n",
    "K = int(input(\"Inserisci il valore di K: \"))\n",
    "N = int(input(\"Inserisci il numero di potenze (N): \"))\n",
    "\n",
    "# creazione lista per memorizzare le potenze di K\n",
    "potenze_di_K = []\n",
    "\n",
    "esponente = 0\n",
    "\n",
    "# Calcola e memorizza le prime N potenze di K usando un ciclo while\n",
    "while esponente < N:\n",
    "    risultato = K ** esponente\n",
    "    potenze_di_K.append(risultato)\n",
    "    esponente += 1\n",
    "\n",
    "# #Alla fine, stampare la lista risultante.\n",
    "print(f\"Le prime {N} potenze di {K} sono: {potenze_di_K}\")\n",
    " "
   ]
  },
  {
   "cell_type": "code",
   "execution_count": 3,
   "id": "de166616-7fe6-4941-bbd6-60e8de8d4dde",
   "metadata": {
    "tags": []
   },
   "outputs": [
    {
     "name": "stdout",
     "output_type": "stream",
     "text": [
      "La media dei guadagni degli ultimi 12 mesi è: 70.0\n"
     ]
    }
   ],
   "source": [
    "#Es pag 12 \n",
    "guadagni = [100, 90, 70, 40, 50, 80, 90, 120, 80, 20, 50, 50]\n",
    "somma_guadagni = 0\n",
    "indice = 0\n",
    "while indice < len(guadagni):\n",
    "    somma_guadagni += guadagni[indice]\n",
    "    indice += 1\n",
    "media_guadagni = somma_guadagni / len(guadagni)\n",
    "print(f\"La media dei guadagni degli ultimi 12 mesi è: {media_guadagni}\")"
   ]
  },
  {
   "cell_type": "code",
   "execution_count": null,
   "id": "6d5b3e3e-b730-485c-8acb-b00ce251a498",
   "metadata": {},
   "outputs": [],
   "source": [
    "#Es pag 13 Cerca i codici fiscali contenenti \"95\"\n",
    "lista_cf = [\"ABCDEF95G01A123B\", \"GHIJKL91M02A321C\", \"MNOPQR89S03A456D\", \"STUVWX95Z04A654E\", \"XYZABC01D05A789F\", \"DEFGHI95J06A987G\"]\n",
    "\n",
    "cf_contenenti_95 = []\n",
    "\n",
    "# Inizializza l'indice per il ciclo while\n",
    "indice = 0\n",
    "\n",
    "# Trova i codici fiscali che contengono \"95\" utilizzando un ciclo while\n",
    "while indice < len(lista_cf):\n",
    "    codice_fiscale = lista_cf[indice]\n",
    "    if \"95\" in codice_fiscale:\n",
    "        cf_contenenti_95.append(codice_fiscale)\n",
    "    indice += 1\n",
    "\n",
    "# Stampa la lista dei codici fiscali che contengono \"95\"\n",
    "print(\"Codici fiscali che contengono '95':\")\n",
    "indice = 0\n",
    "while indice < len(cf_contenenti_95):\n",
    "    print(cf_contenenti_95[indice])\n",
    "    indice += 1\n",
    "\n",
    "# Per ognuno di essi, stampa i caratteri relativi al nome e al cognome\n",
    "print(\"\\nCaratteri relativi al nome e al cognome:\")\n",
    "indice = 0\n",
    "while indice < len(cf_contenenti_95):\n",
    "    cf = cf_contenenti_95[indice]\n",
    "    cognome = cf[:3]\n",
    "    nome = cf[3:6]\n",
    "    print(f\"CF: {cf}, Cognome: {cognome}, Nome: {nome}\")\n",
    "    indice += 1"
   ]
  },
  {
   "cell_type": "code",
   "execution_count": 5,
   "id": "c0c7fff4-bf60-4eff-9c28-37fa06a204c8",
   "metadata": {
    "tags": []
   },
   "outputs": [
    {
     "name": "stdout",
     "output_type": "stream",
     "text": [
      "Squadra Pari: ['Alex', 'Cindy', 'Emma', 'Grace', 'Isabelle']\n",
      "Squadra Dispari: ['Bob', 'Dan', 'Faith', 'Henry', 'John']\n"
     ]
    }
   ],
   "source": [
    "#Es 14 Abbiamo tre liste della stessa lunghezza, dove ogni elemento nella medesima posizione si riferisce ai dati dello stesso studente\n",
    "# Lista di studenti\n",
    "studenti = [\"Alex\", \"Bob\", \"Cindy\", \"Dan\", \"Emma\", \"Faith\", \"Grace\", \"Henry\", \"Isabelle\", \"John\"]\n",
    "\n",
    "# liste per le squadre\n",
    "squadra_pari = []\n",
    "squadra_dispari = []\n",
    "\n",
    "\n",
    "indice = 0\n",
    "\n",
    "# Itera attraverso gli studenti e assegna alle squadre in base alla posizione utilizzando un ciclo while\n",
    "while indice < len(studenti):\n",
    "    if indice % 2 == 0:  # Se la posizione è pari\n",
    "        squadra_pari.append(studenti[indice])\n",
    "    else:\n",
    "        squadra_dispari.append(studenti[indice])\n",
    "    indice += 1\n",
    "\n",
    "# Visualizza le liste delle due squadre\n",
    "print(\"Squadra Pari:\", squadra_pari)\n",
    "print(\"Squadra Dispari:\", squadra_dispari)"
   ]
  },
  {
   "cell_type": "code",
   "execution_count": 14,
   "id": "7413b3c3-ae63-4dce-b896-c78e960d321b",
   "metadata": {
    "tags": []
   },
   "outputs": [
    {
     "name": "stdout",
     "output_type": "stream",
     "text": [
      "['100 $', '200 $', '500 $', '10 $', '50 $', '70 $']\n"
     ]
    }
   ],
   "source": [
    "#Es pag 15\n",
    "prezzi_euro = [\"100 €\", \"200 €\", \"500 €\", \"10 €\", \"50 €\", \"70 €\"]\n",
    "prezzi_dollaro = [elemento.replace('€', '$') for elemento in prezzi_euro]\n",
    "\n",
    "print(prezzi_dollaro)\n"
   ]
  }
 ],
 "metadata": {
  "kernelspec": {
   "display_name": "Python 3 (ipykernel)",
   "language": "python",
   "name": "python3"
  },
  "language_info": {
   "codemirror_mode": {
    "name": "ipython",
    "version": 3
   },
   "file_extension": ".py",
   "mimetype": "text/x-python",
   "name": "python",
   "nbconvert_exporter": "python",
   "pygments_lexer": "ipython3",
   "version": "3.11.5"
  }
 },
 "nbformat": 4,
 "nbformat_minor": 5
}
