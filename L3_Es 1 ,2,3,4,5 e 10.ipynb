{
 "cells": [
  {
   "cell_type": "code",
   "execution_count": 15,
   "id": "8300987b-4a80-4289-81cb-0988dc019d45",
   "metadata": {
    "tags": []
   },
   "outputs": [
    {
     "name": "stdout",
     "output_type": "stream",
     "text": [
      "E\n",
      "p\n",
      "i\n",
      "c\n",
      "o\n",
      "d\n",
      "e\n"
     ]
    }
   ],
   "source": [
    "#Es 1 con for al posto di while pt.1\n",
    "nome_scuola = \"Epicode\"\n",
    "\n",
    "for carattere in nome_scuola:\n",
    "    print(carattere)\n"
   ]
  },
  {
   "cell_type": "code",
   "execution_count": 5,
   "id": "ce02fabe-1b66-4339-b7bf-88f53757b757",
   "metadata": {
    "tags": []
   },
   "outputs": [
    {
     "name": "stdout",
     "output_type": "stream",
     "text": [
      "0\n",
      "1\n",
      "2\n",
      "3\n",
      "4\n",
      "5\n",
      "6\n",
      "7\n",
      "8\n",
      "9\n",
      "10\n",
      "11\n",
      "12\n",
      "13\n",
      "14\n",
      "15\n",
      "16\n",
      "17\n",
      "18\n",
      "19\n",
      "20\n"
     ]
    }
   ],
   "source": [
    "#Es 1 pt.2\n",
    "for numero in range(2):\n",
    "    print(numero)\n"
   ]
  },
  {
   "cell_type": "code",
   "execution_count": 6,
   "id": "403457f2-6919-43f0-ace0-85459ee826cb",
   "metadata": {
    "tags": []
   },
   "outputs": [
    {
     "name": "stdout",
     "output_type": "stream",
     "text": [
      "1\n",
      "2\n",
      "4\n",
      "8\n",
      "16\n",
      "32\n",
      "64\n",
      "128\n",
      "256\n",
      "512\n"
     ]
    }
   ],
   "source": [
    "#Es1 pt.3\n",
    "for esponente in range(10):\n",
    "    risultato = 2 ** esponente\n",
    "    print(risultato)\n"
   ]
  },
  {
   "cell_type": "code",
   "execution_count": 32,
   "id": "dbc7dd14-4f23-40e5-8b82-e67485c3020c",
   "metadata": {
    "tags": []
   },
   "outputs": [
    {
     "name": "stdout",
     "output_type": "stream",
     "text": [
      "Dizionario completo:\n",
      "Ada guida una Punto\n",
      "Ben guida una Multipla\n",
      "Charlie guida una Golf\n",
      "Debbie guida una 107\n",
      "\n",
      "Quale auto guida Debbie? 107\n"
     ]
    }
   ],
   "source": [
    "#Es2 \n",
    "#Creiamo un dizionario che assegni ad ogni proprietario la sua auto\n",
    "proprietari_auto = {\n",
    "    'Ada': 'Punto',\n",
    "    'Ben': 'Multipla',\n",
    "    'Charlie': 'Golf',\n",
    "    'Debbie': '107'\n",
    "}\n",
    "\n",
    "# Stampa del dizionario completo\n",
    "print(\"Dizionario completo:\")\n",
    "for proprietario, auto in proprietari_auto.items():\n",
    "    print(f\"{proprietario} guida una {auto}\")\n",
    "\n",
    "# Stampa dell'auto associata a Debbie\n",
    "auto_debbie = proprietari_auto.get('Debbie')\n",
    "if auto_debbie:\n",
    "    print(\"\\nQuale auto guida Debbie?\", auto_debbie)\n",
    "else:\n",
    "    print(\"\\nDebbie non è presente nel dizionario.\")\n",
    "\n"
   ]
  },
  {
   "cell_type": "code",
   "execution_count": 7,
   "id": "20ec8eb4-8816-449e-97fb-d1cd135fa9b1",
   "metadata": {
    "tags": []
   },
   "outputs": [
    {
     "name": "stdout",
     "output_type": "stream",
     "text": [
      "Auto che non sono una Multipla:\n",
      "Punto\n",
      "Golf\n",
      "107\n"
     ]
    }
   ],
   "source": [
    "#Es 5\n",
    "# stampare a video tutte le auto che non sono una Multipla\n",
    "dizionario_auto = {\"Ada\": \"Punto\", \"Ben\": \"Multipla\", \"Charlie\": \"Golf\", \"Debbie\": \"107\"}\n",
    "\n",
    "#tutte le auto che non sono una Multipla\n",
    "print(\"Auto che non sono una Multipla:\")\n",
    "for auto in dizionario_auto.values():\n",
    "    if auto != \"Multipla\":\n",
    "        print(auto)"
   ]
  },
  {
   "cell_type": "code",
   "execution_count": 14,
   "id": "a92b9c80-05b4-4a1e-96b3-205b8334a8bf",
   "metadata": {
    "tags": []
   },
   "outputs": [
    {
     "name": "stdout",
     "output_type": "stream",
     "text": [
      "*****\n",
      "**\n",
      "***\n",
      "****\n"
     ]
    }
   ],
   "source": [
    "Es 10\n",
    "def aster(lista_numeri):\n",
    "    for numero in lista_numeri:\n",
    "        print('*' * numero)\n",
    "\n",
    "# Esempio di utilizzo\n",
    "numeri = [5, 2, 3, 4]\n",
    "aster(numeri)\n"
   ]
  },
  {
   "cell_type": "code",
   "execution_count": null,
   "id": "fa5a5034-e5b1-4d06-b3fc-3a17df9f84dc",
   "metadata": {},
   "outputs": [],
   "source": []
  }
 ],
 "metadata": {
  "kernelspec": {
   "display_name": "Python 3 (ipykernel)",
   "language": "python",
   "name": "python3"
  },
  "language_info": {
   "codemirror_mode": {
    "name": "ipython",
    "version": 3
   },
   "file_extension": ".py",
   "mimetype": "text/x-python",
   "name": "python",
   "nbconvert_exporter": "python",
   "pygments_lexer": "ipython3",
   "version": "3.11.5"
  }
 },
 "nbformat": 4,
 "nbformat_minor": 5
}
