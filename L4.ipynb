{
 "cells": [
  {
   "cell_type": "code",
   "execution_count": null,
   "metadata": {},
   "outputs": [
    {
     "name": "stdout",
     "output_type": "stream",
     "text": [
      "1. Creazione di una classe Persona\n",
      "Nome: Claudia, Cognome: Mininni, Età: 28\n"
     ]
    }
   ],
   "source": [
    "print (\"1. Creazione di una classe Persona\")\n",
    "class Persona:\n",
    "    def __init__(self, nome, cognome, eta):\n",
    "        self.nome = nome\n",
    "        self.cognome = cognome\n",
    "        self.eta = eta\n",
    "    \n",
    "    def stampa_informazioni(self):\n",
    "        print(f\"Nome: {self.nome}, Cognome: {self.cognome}, Età: {self.eta}\")\n",
    "\n",
    "# Esempio di utilizzo della classe Persona\n",
    "persona1 = Persona(\"Claudia\", \"Mininni\", 28)\n",
    "persona1.stampa_informazioni()"
   ]
  },
  {
   "cell_type": "code",
   "execution_count": null,
   "metadata": {},
   "outputs": [
    {
     "name": "stdout",
     "output_type": "stream",
     "text": [
      "2. Gestione di una classe Libro\n",
      "Il libro 'Il Signore degli Anelli' non è recente.\n",
      "Il libro 'Python Crash Course' è recente.\n"
     ]
    }
   ],
   "source": [
    "print(\"2. Gestione di una classe Libro\")\n",
    "class Libro:\n",
    "    def __init__(self, titolo, autore, anno_pubblicazione):\n",
    "        self.titolo = titolo\n",
    "        self.autore = autore\n",
    "        self.anno_pubblicazione = anno_pubblicazione\n",
    "    \n",
    "    def libro_recente(self, anno_corrente):\n",
    "        return anno_corrente - self.anno_pubblicazione <= 10\n",
    "\n",
    "# Creazione di un elenco di istanze di Libro\n",
    "libri = [\n",
    "    Libro(\"Il Signore degli Anelli\", \"J.R.R. Tolkien\", 1954),\n",
    "    Libro(\"Python Crash Course\", \"Eric Matthes\", 2020)\n",
    "]\n",
    "\n",
    "# Anno corrente\n",
    "anno_corrente = 2024\n",
    "\n",
    "# Iterazione attraverso l'elenco di libri e stampa delle informazioni\n",
    "for libro in libri:\n",
    "    if libro.libro_recente(anno_corrente):\n",
    "        print(f\"Il libro '{libro.titolo}' è recente.\")\n",
    "    else:\n",
    "        print(f\"Il libro '{libro.titolo}' non è recente.\")\n"
   ]
  },
  {
   "cell_type": "code",
   "execution_count": null,
   "metadata": {},
   "outputs": [
    {
     "name": "stdout",
     "output_type": "stream",
     "text": [
      "3. Creazione di una classe Cerchio\n",
      "Area del cerchio: 78.53981633974483\n",
      "Circonferenza del cerchio: 31.41592653589793\n"
     ]
    }
   ],
   "source": [
    "print(\"3. Creazione di una classe Cerchio\")\n",
    "# definisco la classe Cerchio con un costruttore __init__ \n",
    "class Cerchio:\n",
    "    def __init__(self, raggio):\n",
    "        self.raggio = raggio\n",
    "# definisco altri due metodi: calcola_area e calcola_circonferenza. \n",
    "    def calcola_area(self):\n",
    "        return 3.14159 * self.raggio ** 2\n",
    "# return serve a restituire il risultato del calcolo effettuato all'interno del metodo calcolo area\n",
    "    def calcola_circonferenza(self):\n",
    "        return 2 * 3.14159 * self.raggio\n",
    "\n",
    "# creo l'istanza \n",
    "cerchio1 = Cerchio(5)\n",
    "print(f\"Area del cerchio: {cerchio1.calcola_area()}\")\n",
    "print(f\"Circonferenza del cerchio: {cerchio1.calcola_circonferenza()}\")\n",
    "\n"
   ]
  },
  {
   "cell_type": "code",
   "execution_count": null,
   "metadata": {},
   "outputs": [
    {
     "name": "stdout",
     "output_type": "stream",
     "text": [
      "4. Simulazione di un Conto Bancario\n",
      "Deposito di 500 effettuato. Saldo attuale: 1500\n",
      "Prelievo di 200 effettuato. Saldo attuale: 1300\n"
     ]
    }
   ],
   "source": [
    "print(\"4. Simulazione di un Conto Bancario\") \n",
    "#definisco la classe conto bancario e due metodi per deposita e preleva\n",
    "class ContoBancario:\n",
    "    def __init__(self, saldo=0):\n",
    "        self.saldo = saldo\n",
    "  #Il metodo deposita riceve un importo come argomento e lo aggiunge al saldo esistente dell'istanza conto  \n",
    "    def deposita(self, importo):\n",
    "        self.saldo += importo\n",
    "        print(f\"Deposito di {importo} effettuato. Saldo attuale: {self.saldo}\")\n",
    "    \n",
    "    def preleva(self, importo):\n",
    "        if importo <= self.saldo:\n",
    "            self.saldo -= importo\n",
    "            print(f\"Prelievo di {importo} effettuato. Saldo attuale: {self.saldo}\")\n",
    "        else:\n",
    "            print(\"Saldo insufficiente per il prelievo.\")\n",
    "\n",
    "    def visualizza_saldo(self):\n",
    "        print (f\"Saldo attuale:{self.saldo}\")\n",
    "\n",
    "        \n",
    "\n",
    "# Esempio di utilizzo della classe ContoBancario\n",
    "conto1 = ContoBancario(1000)\n",
    "conto1.deposita(500)\n",
    "conto1.preleva(200)\n"
   ]
  },
  {
   "cell_type": "code",
   "execution_count": null,
   "metadata": {},
   "outputs": [
    {
     "name": "stdout",
     "output_type": "stream",
     "text": [
      "5.Gestione prodotto\n",
      "Il costo totale per 10 Pomodori è 20. Disponibilità: True\n"
     ]
    }
   ],
   "source": [
    "print(\"5.Gestione prodotto\")\n",
    "class Prodotto:\n",
    "    def __init__(self, nome, prezzo, quantita_disponibile):\n",
    "        self.nome = nome\n",
    "        self.prezzo = prezzo\n",
    "        self.quantita_disponibile = quantita_disponibile\n",
    "\n",
    "    # Metodo calcola_costo_totale\n",
    "    def calcola_costo_totale(self, quantita):\n",
    "        return self.prezzo * quantita\n",
    "    \n",
    "    def verifica_disponibilita(self, quantita):\n",
    "        return quantita <= self.quantita_disponibile\n",
    "\n",
    "# Esempio di utilizzo\n",
    "prodotto1 = Prodotto(\"Laptop\", 800, 10)\n",
    "prodotto2 = Prodotto(\"Pomodori\", 2, 400)\n",
    "\n",
    "# Esempio di utilizzo anche per prodotto2\n",
    "quantita_desiderata_prodotto2 = 10\n",
    "costo_totale_prodotto2 = prodotto2.calcola_costo_totale(quantita_desiderata_prodotto2)\n",
    "disponibilita_prodotto2 = prodotto2.verifica_disponibilita(quantita_desiderata_prodotto2)\n",
    "print(f\"Il costo totale per {quantita_desiderata_prodotto2} {prodotto2.nome} è {costo_totale_prodotto2}. Disponibilità: {disponibilita_prodotto2}\")\n"
   ]
  },
  {
   "cell_type": "code",
   "execution_count": 33,
   "metadata": {},
   "outputs": [
    {
     "name": "stdout",
     "output_type": "stream",
     "text": [
      "Analisi della concentrazione degli inquinanti per Area A:\n",
      "Media concentrazione: 23.0\n",
      "Massima concentrazione: 30\n",
      "Minima concentrazione: 18\n",
      "\n",
      "Analisi della concentrazione degli inquinanti per Area B:\n",
      "Media concentrazione: 20.0\n",
      "Massima concentrazione: 28\n",
      "Minima concentrazione: 12\n"
     ]
    }
   ],
   "source": [
    "class AnalisiAmbientale:\n",
    "    def __init__(self, nome_area, dati_concentrazione_inquinanti):\n",
    "        self.nome_area = nome_area\n",
    "        self.dati_concentrazione_inquinanti = dati_concentrazione_inquinanti\n",
    "\n",
    "    def media_concentrazione(self):\n",
    "        return sum(self.dati_concentrazione_inquinanti) / len(self.dati_concentrazione_inquinanti)\n",
    "\n",
    "    def massima_concentrazione(self):\n",
    "        return max(self.dati_concentrazione_inquinanti)\n",
    "\n",
    "    def minima_concentrazione(self):\n",
    "        return min(self.dati_concentrazione_inquinanti)\n",
    "\n",
    "# Esempio di utilizzo della classe AnalisiAmbientale\n",
    "dati_inquinanti_area_1 = [20, 25, 18, 22, 30]\n",
    "analisi_area_1 = AnalisiAmbientale(\"Area A\", dati_inquinanti_area_1)\n",
    "\n",
    "dati_inquinanti_area_2 = [15, 28, 12, 20, 25]\n",
    "analisi_area_2 = AnalisiAmbientale(\"Area B\", dati_inquinanti_area_2)\n",
    "\n",
    "# Stampa delle informazioni statistiche per l'Area 1\n",
    "print(f\"Analisi della concentrazione degli inquinanti per {analisi_area_1.nome_area}:\")\n",
    "print(f\"Media concentrazione: {analisi_area_1.media_concentrazione()}\")\n",
    "print(f\"Massima concentrazione: {analisi_area_1.massima_concentrazione()}\")\n",
    "print(f\"Minima concentrazione: {analisi_area_1.minima_concentrazione()}\")\n",
    "\n",
    "# Stampa delle informazioni statistiche per l'Area 2\n",
    "print(f\"\\nAnalisi della concentrazione degli inquinanti per {analisi_area_2.nome_area}:\")\n",
    "print(f\"Media concentrazione: {analisi_area_2.media_concentrazione()}\")\n",
    "print(f\"Massima concentrazione: {analisi_area_2.massima_concentrazione()}\")\n",
    "print(f\"Minima concentrazione: {analisi_area_2.minima_concentrazione()}\")\n"
   ]
  },
  {
   "cell_type": "code",
   "execution_count": null,
   "metadata": {},
   "outputs": [],
   "source": []
  }
 ],
 "metadata": {
  "kernelspec": {
   "display_name": "myproject",
   "language": "python",
   "name": "python3"
  },
  "language_info": {
   "codemirror_mode": {
    "name": "ipython",
    "version": 3
   },
   "file_extension": ".py",
   "mimetype": "text/x-python",
   "name": "python",
   "nbconvert_exporter": "python",
   "pygments_lexer": "ipython3",
   "version": "3.11.5"
  }
 },
 "nbformat": 4,
 "nbformat_minor": 2
}
