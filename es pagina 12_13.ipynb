{
 "cells": [
  {
   "cell_type": "code",
   "execution_count": 1,
   "id": "8ee91c56-9098-4846-b40d-013730be3239",
   "metadata": {
    "tags": []
   },
   "outputs": [
    {
     "name": "stdin",
     "output_type": "stream",
     "text": [
      "Inserisci una stringa:  Computer\n"
     ]
    },
    {
     "name": "stdout",
     "output_type": "stream",
     "text": [
      "Output: Com...ter\n"
     ]
    }
   ],
   "source": [
    "# Chiedi all'utente di inserire una stringa\n",
    "input_utente = input(\"Inserisci una stringa: \")\n",
    "\n",
    "# Visualizza l'output\n",
    "output = input_utente[:3] + \"...\" + input_utente[-3:]\n",
    "print(\"Output:\", output)\n"
   ]
  },
  {
   "cell_type": "code",
   "execution_count": 6,
   "id": "59443ea3-4be6-45a7-8ffd-e35edb64ba5b",
   "metadata": {
    "tags": []
   },
   "outputs": [
    {
     "name": "stdout",
     "output_type": "stream",
     "text": [
      "Lunghezza di 'a': 7\n",
      "Lunghezza di 'b': 5\n",
      "Lunghezza di 'c': 10\n",
      "Lunghezza di 'd': 4\n"
     ]
    }
   ],
   "source": [
    "a = \"Windows\"\n",
    "b = \"Excel\"\n",
    "c = \"Powerpoint\"\n",
    "d = \"Word\"\n",
    "\n",
    "lunghezza_a = len(a)\n",
    "lunghezza_b = len(b)\n",
    "lunghezza_c = len(c)\n",
    "lunghezza_d = len(d)\n",
    "\n",
    "print(f\"Lunghezza di 'a': {lunghezza_a}\")\n",
    "print(f\"Lunghezza di 'b': {lunghezza_b}\")\n",
    "print(f\"Lunghezza di 'c': {lunghezza_c}\")\n",
    "print(f\"Lunghezza di 'd': {lunghezza_d}\")\n"
   ]
  },
  {
   "cell_type": "code",
   "execution_count": 8,
   "id": "8fa78b85-83d2-444a-9c05-3de2ad7147a6",
   "metadata": {
    "tags": []
   },
   "outputs": [
    {
     "name": "stdout",
     "output_type": "stream",
     "text": [
      "Risultati della verifica: [True, True, True, False]\n"
     ]
    }
   ],
   "source": [
    "stringhe_da_verificare = [\"Windows\", \"Excel\", \"Powerpoint\", \"Word\"]\n",
    "\n",
    "risultati = [(5 <= len(s[:8]) <= 8) for s in stringhe_da_verificare]\n",
    "\n",
    "print(\"Risultati della verifica:\", risultati)\n"
   ]
  }
 ],
 "metadata": {
  "kernelspec": {
   "display_name": "Python 3 (ipykernel)",
   "language": "python",
   "name": "python3"
  },
  "language_info": {
   "codemirror_mode": {
    "name": "ipython",
    "version": 3
   },
   "file_extension": ".py",
   "mimetype": "text/x-python",
   "name": "python",
   "nbconvert_exporter": "python",
   "pygments_lexer": "ipython3",
   "version": "3.11.5"
  }
 },
 "nbformat": 4,
 "nbformat_minor": 5
}
