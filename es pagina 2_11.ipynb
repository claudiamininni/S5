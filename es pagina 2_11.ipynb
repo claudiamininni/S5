{
 "cells": [
  {
   "cell_type": "code",
   "execution_count": 19,
   "id": "28f3bea2-ee8a-4589-9167-66fb7e6b2d61",
   "metadata": {
    "tags": []
   },
   "outputs": [
    {
     "name": "stdout",
     "output_type": "stream",
     "text": [
      "Il numero di studenti è: 25\n"
     ]
    }
   ],
   "source": [
    "numero_studenti = 25\n",
    "print(\"Il numero di studenti è:\", numero_studenti)"
   ]
  },
  {
   "cell_type": "code",
   "execution_count": 20,
   "id": "b5883cb6-e4d6-487d-88a0-e912a87c4308",
   "metadata": {
    "tags": []
   },
   "outputs": [
    {
     "name": "stdout",
     "output_type": "stream",
     "text": [
      "Il nuovo numero di studenti è: 28\n"
     ]
    }
   ],
   "source": [
    "altri_studenti = 3\n",
    "\n",
    "# Calcolare il nuovo numero totale di studenti\n",
    "nuovo_numero_studenti = numero_studenti + altri_studenti\n",
    "\n",
    "# Stampare il nuovo numero di studenti\n",
    "print(\"Il nuovo numero di studenti è:\", nuovo_numero_studenti)\n"
   ]
  },
  {
   "cell_type": "code",
   "execution_count": 29,
   "id": "4aa9d033-d64c-41dd-ace9-1626205ccde4",
   "metadata": {
    "tags": []
   },
   "outputs": [
    {
     "name": "stdout",
     "output_type": "stream",
     "text": [
      "Contenuto della variabile: Epicode\n",
      "Primo carattere: E\n",
      "Primi tre caratteri: Epi\n"
     ]
    }
   ],
   "source": [
    "nome_scuola = \"Epicode\"\n",
    "print(\"Contenuto della variabile:\", nome_scuola)\n",
    "print(\"Primo carattere:\", nome_scuola[0])\n",
    "print(\"Primi tre caratteri:\", nome_scuola[0:3])\n"
   ]
  },
  {
   "cell_type": "code",
   "execution_count": 9,
   "id": "029e035e-c15c-437f-8f83-d93f538dc4f6",
   "metadata": {
    "tags": []
   },
   "outputs": [
    {
     "name": "stdout",
     "output_type": "stream",
     "text": [
      "Sottostringa: ico\n"
     ]
    }
   ],
   "source": [
    "# Slicing per ottenere una sottostringa\n",
    "porzione_stringa = nome_scuola[2:5]\n",
    "\n",
    "# Stampa della sottostringa\n",
    "print(\"Sottostringa:\", porzione_stringa)"
   ]
  },
  {
   "cell_type": "code",
   "execution_count": 21,
   "id": "867b40f0-1b94-473e-a93e-3f1fd267a0a6",
   "metadata": {
    "tags": []
   },
   "outputs": [
    {
     "name": "stdout",
     "output_type": "stream",
     "text": [
      "[0, 1, 2, 3, 4, 5]\n"
     ]
    }
   ],
   "source": [
    "# Creazione della lista da 0 a 5\n",
    "numeri_da_0_a_5 = [0, 1, 2, 3, 4, 5]\n",
    "\n",
    "# Stampa della lista\n",
    "print(numeri_da_0_a_5)\n"
   ]
  },
  {
   "cell_type": "code",
   "execution_count": 10,
   "id": "2e8096d5-ec1c-4e04-ae9c-f9e0593d7d62",
   "metadata": {
    "tags": []
   },
   "outputs": [
    {
     "name": "stdout",
     "output_type": "stream",
     "text": [
      "Risultato con operatori di assegnazione: 36\n"
     ]
    }
   ],
   "source": [
    "# Metodo con gli operatori di assegnazione\n",
    "x = 10\n",
    "x += 2  # Incrementa di 2\n",
    "x *= 3  # Moltiplica per 3\n",
    "print(\"Risultato con operatori di assegnazione:\", x)\n"
   ]
  },
  {
   "cell_type": "code",
   "execution_count": 32,
   "id": "1b39bf04-9760-4538-9329-89b678e87437",
   "metadata": {
    "tags": []
   },
   "outputs": [
    {
     "name": "stdout",
     "output_type": "stream",
     "text": [
      "Risultato senza operatori di assegnazione: 36\n"
     ]
    }
   ],
   "source": [
    "# Metodo senza operatori di assegnazione\n",
    "x = 10\n",
    "x = x + 2  \n",
    "x = x * 3  \n",
    "print(\"Risultato senza operatori di assegnazione:\", x)\n"
   ]
  }
 ],
 "metadata": {
  "kernelspec": {
   "display_name": "Python 3 (ipykernel)",
   "language": "python",
   "name": "python3"
  },
  "language_info": {
   "codemirror_mode": {
    "name": "ipython",
    "version": 3
   },
   "file_extension": ".py",
   "mimetype": "text/x-python",
   "name": "python",
   "nbconvert_exporter": "python",
   "pygments_lexer": "ipython3",
   "version": "3.11.5"
  }
 },
 "nbformat": 4,
 "nbformat_minor": 5
}
