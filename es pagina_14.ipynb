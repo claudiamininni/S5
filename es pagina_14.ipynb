{
 "cells": [
  {
   "cell_type": "code",
   "execution_count": 3,
   "id": "04f80cb7-f1ea-4bd9-afbc-a0b45e589bc0",
   "metadata": {
    "tags": []
   },
   "outputs": [
    {
     "name": "stdout",
     "output_type": "stream",
     "text": [
      "Mario Rossi +3938222222\n"
     ]
    }
   ],
   "source": [
    "nome_1 = \"mario\"\n",
    "cognome_1 = \"rossi\"\n",
    "numero_cell_1 = \"38222222\"\n",
    "\n",
    "contatto_1 = nome_1.capitalize() + \" \" + cognome_1.capitalize() + \" \"+ \"+39\" + numero_cell_1\n",
    "\n",
    "print(contatto_1)"
   ]
  },
  {
   "cell_type": "code",
   "execution_count": 7,
   "id": "3289d68f-4aec-4f38-9389-37e904fcbfae",
   "metadata": {
    "tags": []
   },
   "outputs": [
    {
     "name": "stdin",
     "output_type": "stream",
     "text": [
      "Inserisci il nome:  giulio\n",
      "Inserisci il cognome:  bianchi\n",
      "Inserisci il numero:  0000000\n"
     ]
    },
    {
     "name": "stdout",
     "output_type": "stream",
     "text": [
      "Giulio Bianchi +390000000\n"
     ]
    }
   ],
   "source": [
    "nome = input(\"Inserisci il nome: \")\n",
    "cognome = input(\"Inserisci il cognome: \")\n",
    "numero_cell = input(\"Inserisci il numero: \")\n",
    "\n",
    "contatto_1 = nome.capitalize() + \" \" + cognome.capitalize() + \" \"+ \"+39\" + numero_cell\n",
    "\n",
    "print(contatto_1)"
   ]
  },
  {
   "cell_type": "code",
   "execution_count": null,
   "id": "8c5fb91c-995f-4497-ae1b-b8b5caebfbe8",
   "metadata": {},
   "outputs": [],
   "source": []
  }
 ],
 "metadata": {
  "kernelspec": {
   "display_name": "Python 3 (ipykernel)",
   "language": "python",
   "name": "python3"
  },
  "language_info": {
   "codemirror_mode": {
    "name": "ipython",
    "version": 3
   },
   "file_extension": ".py",
   "mimetype": "text/x-python",
   "name": "python",
   "nbconvert_exporter": "python",
   "pygments_lexer": "ipython3",
   "version": "3.11.5"
  }
 },
 "nbformat": 4,
 "nbformat_minor": 5
}
