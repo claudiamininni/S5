{
 "cells": [
  {
   "cell_type": "code",
   "execution_count": 1,
   "id": "e5616e54-0a84-4861-83b0-781c030e247c",
   "metadata": {
    "tags": []
   },
   "outputs": [
    {
     "name": "stdin",
     "output_type": "stream",
     "text": [
      "Inserisci la prima parola:  Giallo\n",
      "Inserisci la seconda parola:  MAIUSCOLO\n",
      "Inserisci la terza parola:  minuscolo\n"
     ]
    },
    {
     "name": "stdout",
     "output_type": "stream",
     "text": [
      "Prima parola: GIALLO, Seconda parola: maiuscolo, Terza parola: Minuscolo\n",
      "Primi tre caratteri di ogni parola: Gia MAI min\n"
     ]
    }
   ],
   "source": [
    "# Chiedi all'utente di inserire tre parole\n",
    "parola1 = input(\"Inserisci la prima parola: \")\n",
    "parola2 = input(\"Inserisci la seconda parola: \")\n",
    "parola3 = input(\"Inserisci la terza parola: \")\n",
    "\n",
    "# Produci l'output\n",
    "output = f\"Prima parola: {parola1.upper()}, Seconda parola: {parola2.lower()}, Terza parola: {parola3.capitalize()}\"\n",
    "\n",
    "# Stampa l'output\n",
    "print(output)\n",
    "\n",
    "# Prendi i primi tre caratteri di ogni parola e stampali\n",
    "primi_3_caratteri = f\"{parola1[:3]} {parola2[:3]} {parola3[:3]}\"\n",
    "print(\"Primi tre caratteri di ogni parola:\", primi_3_caratteri)\n"
   ]
  },
  {
   "cell_type": "code",
   "execution_count": 3,
   "id": "c84d962e-dba1-42b8-a0bc-06b46ddca07a",
   "metadata": {
    "tags": []
   },
   "outputs": [
    {
     "name": "stdin",
     "output_type": "stream",
     "text": [
      "Inserisci la prima parola:  tre\n",
      "Inserisci la seconda parola:  tre\n",
      "Inserisci la terza parola:  tre\n"
     ]
    },
    {
     "name": "stdout",
     "output_type": "stream",
     "text": [
      "Il prodotto delle lunghezze delle parole è: 27\n"
     ]
    }
   ],
   "source": [
    "parola1 = input(\"Inserisci la prima parola: \")\n",
    "parola2 = input(\"Inserisci la seconda parola: \")\n",
    "parola3 = input(\"Inserisci la terza parola: \")\n",
    "\n",
    "# Calcola il prodotto delle lunghezze delle parole\n",
    "prodotto_lunghezze = len(parola1) * len(parola2) * len(parola3)\n",
    "\n",
    "print(f\"Il prodotto delle lunghezze delle parole è: {prodotto_lunghezze}\")\n"
   ]
  },
  {
   "cell_type": "code",
   "execution_count": 13,
   "id": "72cc9a80-f789-412b-8c9d-01b5dd5f3b06",
   "metadata": {
    "tags": []
   },
   "outputs": [
    {
     "name": "stdout",
     "output_type": "stream",
     "text": [
      "Stringa originale: '    Hel    lo, Wo rl  d !    '\n",
      "Stringa con strip: 'Hel    lo, Wo rl  d !'\n",
      "Stringa senza spazi: 'Hello,World!'\n",
      "Stringa lista: ['Hel', 'lo,', 'Wo', 'rl', 'd', '!']\n"
     ]
    }
   ],
   "source": [
    "#utilizzo di STRIP, REPLACE, SPLIT\n",
    "stringa = \"    Hel    lo, Wo rl  d !    \"\n",
    "stringa_stripped = stringa.strip()\n",
    "stringa_senza_spazi = stringa.replace(\" \", \"\")\n",
    "lista_di_parole = stringa.split()\n",
    "\n",
    "print(\"Stringa originale:\", repr(stringa))\n",
    "print(\"Stringa con strip:\", repr(stringa_stripped))\n",
    "print(\"Stringa senza spazi:\", repr(stringa_senza_spazi))\n",
    "print(\"Stringa lista:\", repr(lista_di_parole))\n"
   ]
  },
  {
   "cell_type": "code",
   "execution_count": 16,
   "id": "0eb3c6bd-4e32-426d-8a9c-db7fe5303033",
   "metadata": {
    "tags": []
   },
   "outputs": [
    {
     "name": "stdout",
     "output_type": "stream",
     "text": [
      "Hel lo, Wo rl d !\n"
     ]
    }
   ],
   "source": [
    "\n",
    "testo_unificato = ' '.join(lista_di_parole)\n",
    "print(testo_unificato)"
   ]
  },
  {
   "cell_type": "code",
   "execution_count": null,
   "id": "0ebbfc0c-bc84-4f8d-bad4-21e5371314ce",
   "metadata": {},
   "outputs": [],
   "source": []
  }
 ],
 "metadata": {
  "kernelspec": {
   "display_name": "Python 3 (ipykernel)",
   "language": "python",
   "name": "python3"
  },
  "language_info": {
   "codemirror_mode": {
    "name": "ipython",
    "version": 3
   },
   "file_extension": ".py",
   "mimetype": "text/x-python",
   "name": "python",
   "nbconvert_exporter": "python",
   "pygments_lexer": "ipython3",
   "version": "3.11.5"
  }
 },
 "nbformat": 4,
 "nbformat_minor": 5
}
